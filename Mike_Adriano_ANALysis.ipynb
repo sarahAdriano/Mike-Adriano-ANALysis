{
  "nbformat": 4,
  "nbformat_minor": 0,
  "metadata": {
    "colab": {
      "provenance": [],
      "authorship_tag": "ABX9TyObQW47a11zUchR1FtPqR0v",
      "include_colab_link": true
    },
    "kernelspec": {
      "name": "python3",
      "display_name": "Python 3"
    },
    "language_info": {
      "name": "python"
    }
  },
  "cells": [
    {
      "cell_type": "markdown",
      "metadata": {
        "id": "view-in-github",
        "colab_type": "text"
      },
      "source": [
        "<a href=\"https://colab.research.google.com/github/sarahAdriano/Mike-Adriano-ANALysis/blob/main/Mike_Adriano_ANALysis.ipynb\" target=\"_parent\"><img src=\"https://colab.research.google.com/assets/colab-badge.svg\" alt=\"Open In Colab\"/></a>"
      ]
    },
    {
      "cell_type": "code",
      "execution_count": null,
      "metadata": {
        "id": "PkhLnwXJt2CL",
        "colab": {
          "base_uri": "https://localhost:8080/"
        },
        "outputId": "16582980-2441-4260-dee3-964dfe50e036"
      },
      "outputs": [
        {
          "output_type": "stream",
          "name": "stdout",
          "text": [
            "(1, 'Aaliyah Hadid', 'Swallowed', 'Mike Adriano', 3, 'https://cdn11.bunkr.ru/Aaliyah-Hadid-BJdTDwKu.mp4', 8.5, 'Yes', 'AALIYAH’S SOUL-SUCKING BJ', '16:15,18:08,32:45', 6.5, 'https://drive.google.com/drive/u/3/folders/1Ya_x7V5-hc339epwpvth2h5JqkU81w1e', \"Aaliyah Hadid proves once again what she was BORN to do: sloppy blowjobs. This video is further proof of how skilled she is in this practice, although I miss a full deepthroat, she did a good job and her effort is quite remarkable. She shows that she really likes what she does, and that makes all the difference. If you're looking for a video of a girl who looks crazy about Mike's cock, who spills LITERS of saliva (in a cup) and who looks like she's crazy sucking a cock, then this is the perfect video for you. I don't particularly think she's pretty, despite having huge and beautiful breasts. However, she is very talented, she made Mike precum 3 times and I had a lot of fun in this video from start to finish. Deserving an 8.5 for the good work, above average, but lacking a little more skill with the throat. It's not on the first shelf of the best Swallowed videos, but it's a great video to have in your collection.\")\n",
            "(2, 'Abella Danger and Karlee Grey', 'Swallowed', 'Mike Adriano', 4, 'https://bunkrr.su/v/Abella-Danger-and-Karlee-Grey-cFe5gXQ8.mp4', 9.5, 'Yes', 'ABELLA AND KARLEE ARE THIRSTY LITTLE THROAT SLUTS', '15:38,24:52,28:18,33:55,34:25', 8.2, 'https://drive.google.com/drive/folders/15NsIRkpQMkGIWVXaK9AOgRHOE0OFZh3N?usp=sharing', \"Lebron and Kyrie? Kobe and Shaq? Sorry, but Abella Danger and Karlee Gray are one of the best duos to ever walk this earth. I don't know if they have a friendship in their personal lives, but it's amazing how well they work together! Abella is the crazy side: she suffocates on Mike's cock, looks like she's hungry for him, shows that she's passionate about what she does. Karlee is on the quiet side: she does her good work without having to freak out, but she does it impressively! Both are beautiful women, but Karlee steals the show. She has a perfect body and a smile that mesmerizes you every time. It wasn't enough for the two to be beautiful, they are also extremely skilled at what they do, the dream of many men. Maybe the 9.5 rating seems high, but having Mike pre-cum 4 times and leaving you hooked throughout the entire video makes them deserve that rating. If you want a video to enjoy, cum fast, cum many times or whatever you want to do, this video is a work of art for you. Kudos to Mike for seeing such a great duo and putting it into practice!\")\n",
            "(3, 'Abella Danger and Luna Star', 'Swallowed', 'Mike Adriano', 3, 'https://bunkrr.su/v/t6IEi4DWyyWcR', 7.4, 'Yes', 'DOUBLE-DIPPING WITH ABELLA AND LUNA', '12:45,27:48,29:29', 7.0, 'https://drive.google.com/drive/folders/1Jogg1LrU-1MgYyLlFXCtPLnW4QcSJkhi?usp=sharing', \"'Are you crazy? Why a video with 3 mic cums only 7.4?' Let me explain: the video is good, Abella and Luna work very well together and make great content for Swallowed. However, this is the type of video that goes unnoticed among so many others that we see every day, the only thing in it that stands out is using two super famous girls to work with Mike, but in the end they just make a GOOD video but below than I expected being recorded with Abella Danger and Luna Star. And one more thing: Luna stole the show!\")\n",
            "(4, 'Abella Danger', 'True Anal', 'Mike Adriano', 1, 'https://bunkrr.su/v/yE8N74CgmC0iE', 7.0, 'Yes', 'STUFFING ABELLAS BUTT', '13:50', 7.7, '', '')\n",
            "(5, 'Abigail Mac, Kalina Ryu and Romi Rain', 'Swallowed', 'Mike Adriano', 8, 'https://bunkrr.su/v/Abigail-Mac,-Kalina-Ryu-and-Romi-Rain-NtuQCrSS.mp4', 10.0, 'Yes', 'ABIGAIL, KALINA AND ROMI HAVE A FROTHY DROOLING COCK BUFFET', '14:02,14:52,20:50,23:16,24:48,26:42,28:14,28:58', 8.5, '', '')\n",
            "(6, 'Adira Allure and Bella Rolland', 'Swallowed', 'Oliver Flynn', 0, 'https://bunkrr.su/v/rY1N37GrIf11b', 6.5, 'Yes', 'BELLA AND ADIRA QUENCH THEIR THIRST', '', 6.2, '', '')\n",
            "(7, 'Adira Allure and Leah Winters', 'AllAnal', 'Logan Long', 0, 'https://bunkrr.su/v/fINu6gRtY1n1x', 5.8, 'No', 'Cotton Candy Crush With Adira And Leah', '', 8.6, '', '')\n",
            "(8, 'Adira Allure', 'AnalOnly', 'Logan Long', 0, 'https://bunkrr.su/v/Dv82NHNE75JIV', 5.0, 'No', 'Dicking Down Adira', '', 6.3, '', '')\n",
            "(9, 'Aaliyah Hadid and Honey Gold', 'Swallowed', 'Mike Adriano', 0, 'https://bunkrr.su/v/gFI9GR2mVYDR9', 7.0, 'No', 'AALIYAH AND HONEY GO A LITTLE CRAZY ON A DICK', '', 6.6, '', '')\n",
            "(10, 'Adria Rae', 'Swallowed', 'Mike Adriano', 7, 'https://bunkrr.su/v/sJX6QBusXm4Su', 8.3, 'No', 'FEEDING TIME FOR ADRIA', '13:45, 14:50, 20:10, 21:20, 22:07, 33:36, 37:50', 9.5, '', '')\n",
            "(11, 'Adriana Chechik and Anya Olsen', 'Swallowed', 'Mike Adriano', 1, 'https://gofile.io/d/lB2iWf', 8.5, 'Yes', 'THERE IS SPITTLE CHEMISTRY BETWEEN ADRIANA AND ANYA', '22:55', 8.8, '', '')\n",
            "(12, 'Lily Labeau, Haley Reed ', 'Swallowed', 'Mike Adriano', 4, 'https://bunkrr.su/v/ouJYidxG1Hmwq', 8.8, 'No', 'HALEY AND LILY DOLE OUT DOUBLE HELPINGS OF SLOPPY', '12:50; 14:40, 16:30, 19:20', 9.0, '', '')\n",
            "(13, 'Blair Williams', 'Swallowed', 'Mike Adriano', 4, 'https://bunkrr.su/v/9dljBPD6w5MFm', 9.4, 'Yes', 'BLAIR MAKES IT DISAPPEAR', '10:50; 12:30, 21:08, 24:10', 8.5, '', '')\n",
            "(14, 'Eliza Ibarra', 'Nympho', 'Logan Long', 0, 'https://bunkrr.su/v/9p1tWYkpHJE2A', 9.9, 'Yes', 'Eliza Is A World Class Pleaser', '', 9.0, '', '')\n",
            "(15, 'Gina Valentina and Jill Kassidy', 'Swallowed', 'Mike Adriano', 0, 'https://bunkrr.su/v/rgIIU57JcDjdr', 9.2, 'Yes', 'JILL AND GINA IN A SLOPPY GARGLING SUCK PARTY', '33:00', 10.0, '', '')\n",
            "(16, 'Sarah Vandella', 'Swallowed', 'Alex Jones', 0, 'https://bunkrr.su/v/U1ha0Dc7cQD2B', 8.0, 'Yes', 'MASTER LEVEL BJ WITH SARAH', '', 8.4, '', '')\n",
            "(17, 'Eliza Ibarra and Kiarra Kai', 'AllAnal', 'Mike Adriano', 0, 'https://bunkrr.su/v/yKBA3fA4dDXRN', 5.8, 'No', 'ATM Introduction For Eliza And Kiarra', '', 6.0, '', '')\n",
            "(18, 'Eliza Ibarra', 'Swallowed', 'Mike Adriano', 2, 'https://bunkrr.su/v/fltyRsFn1CRwF', 10.0, 'Yes', 'ELIZA IS A JUICE MAKER', '32:05, 34:55', 9.0, '', '')\n",
            "(19, 'Sarah Banks', 'Swallowed', 'Mike Adriano', 6, 'https://bunkrr.su/v/Ewny4Q8iJg0Ix', 10.0, 'Yes', 'SARAHS SLURP SESSION', '16:05, 17:20 ,21:00, 22:48, 27:20 ,31:20', 7.3, '', '')\n",
            "(20, 'Kendra Spade', 'Swallowed', 'Mike Adriano', 1, 'https://bunkrr.su/v/xgr4iFgfGbUVk', 8.0, 'Yes', 'MOUTH WATERING ACTION WITH KENDRA', '21:50', 8.0, '', '')\n",
            "(21, 'Brooklyn Gray', 'Swallowed', 'Mike Adriano', 2, 'https://bunkrr.su/v/Z77UshVaYd8Yc', 9.0, 'Yes', 'BACK IN BROOKLYNS THROAT', '19:50, 33:00', 7.4, '', '')\n",
            "(22, 'Khloe Kapri', 'Swallowed', 'Mike Adriano', 4, 'https://bunkrr.su/v/OIcj8uWYLN04n', 9.5, 'Yes', 'KHLOE IS A BLOWJOB PRINCESS', '18:00, 18:30, 21:15, 32:25', 7.7, '', '')\n"
          ]
        }
      ],
      "source": [
        "# Connecting with your database\n",
        "import sqlite3\n",
        "conn = sqlite3.connect('mike_adriano.db')\n",
        "cursor = conn.cursor()\n",
        "#conn.execute(\"DROP TABLE videos\")\n",
        "conn.execute('''CREATE TABLE videos\n",
        "               (id INT PRIMARY KEY NOT NULL,\n",
        "                Actress_name VARCHAR(255),\n",
        "                Site VARCHAR(255),\n",
        "                Actor VARCHAR(255),\n",
        "                CumsCount INT,\n",
        "                Link VARCHAR(255),\n",
        "                VideoRate FLOAT,\n",
        "                FullDeepthroat VARCHAR(255),\n",
        "                VideoName VARCHAR(255),\n",
        "                CumMoments VARCHAR(150),\n",
        "                PrettyRate FLOAT,\n",
        "                DrivePics VARCHAR(200),\n",
        "                PersonalReview VARCHAR(1000))''')\n",
        "\n",
        "\n",
        "\n",
        "data = [\n",
        "(1, 'Aaliyah Hadid', 'Swallowed', 'Mike Adriano', 3, 'https://cdn11.bunkr.ru/Aaliyah-Hadid-BJdTDwKu.mp4', 8.5, 'Yes', 'AALIYAH’S SOUL-SUCKING BJ', '16:15,18:08,32:45', 6.5, \"https://drive.google.com/drive/u/3/folders/1Ya_x7V5-hc339epwpvth2h5JqkU81w1e\", \"Aaliyah Hadid proves once again what she was BORN to do: sloppy blowjobs. This video is further proof of how skilled she is in this practice, although I miss a full deepthroat, she did a good job and her effort is quite remarkable. She shows that she really likes what she does, and that makes all the difference. If you're looking for a video of a girl who looks crazy about Mike's cock, who spills LITERS of saliva (in a cup) and who looks like she's crazy sucking a cock, then this is the perfect video for you. I don't particularly think she's pretty, despite having huge and beautiful breasts. However, she is very talented, she made Mike precum 3 times and I had a lot of fun in this video from start to finish. Deserving an 8.5 for the good work, above average, but lacking a little more skill with the throat. It's not on the first shelf of the best Swallowed videos, but it's a great video to have in your collection.\"),\n",
        "(2, 'Abella Danger and Karlee Grey', 'Swallowed', 'Mike Adriano', 4, 'https://bunkrr.su/v/Abella-Danger-and-Karlee-Grey-cFe5gXQ8.mp4', 9.5, 'Yes', 'ABELLA AND KARLEE ARE THIRSTY LITTLE THROAT SLUTS', '15:38,24:52,28:18,33:55,34:25', 8.2,'https://drive.google.com/drive/folders/15NsIRkpQMkGIWVXaK9AOgRHOE0OFZh3N?usp=sharing', \"Lebron and Kyrie? Kobe and Shaq? Sorry, but Abella Danger and Karlee Gray are one of the best duos to ever walk this earth. I don't know if they have a friendship in their personal lives, but it's amazing how well they work together! Abella is the crazy side: she suffocates on Mike's cock, looks like she's hungry for him, shows that she's passionate about what she does. Karlee is on the quiet side: she does her good work without having to freak out, but she does it impressively! Both are beautiful women, but Karlee steals the show. She has a perfect body and a smile that mesmerizes you every time. It wasn't enough for the two to be beautiful, they are also extremely skilled at what they do, the dream of many men. Maybe the 9.5 rating seems high, but having Mike pre-cum 4 times and leaving you hooked throughout the entire video makes them deserve that rating. If you want a video to enjoy, cum fast, cum many times or whatever you want to do, this video is a work of art for you. Kudos to Mike for seeing such a great duo and putting it into practice!\"),\n",
        "(3, 'Abella Danger and Luna Star', 'Swallowed', 'Mike Adriano', 3, 'https://bunkrr.su/v/t6IEi4DWyyWcR', 7.4, 'Yes', 'DOUBLE-DIPPING WITH ABELLA AND LUNA', '12:45,27:48,29:29', 7,\"https://drive.google.com/drive/folders/1Jogg1LrU-1MgYyLlFXCtPLnW4QcSJkhi?usp=sharing\",\"'Are you crazy? Why a video with 3 mic cums only 7.4?' Let me explain: the video is good, Abella and Luna work very well together and make great content for Swallowed. However, this is the type of video that goes unnoticed among so many others that we see every day, the only thing in it that stands out is using two super famous girls to work with Mike, but in the end they just make a GOOD video but below than I expected being recorded with Abella Danger and Luna Star. And one more thing: Luna stole the show!\"),\n",
        "(4, 'Abella Danger', 'True Anal', 'Mike Adriano', 1, 'https://bunkrr.su/v/yE8N74CgmC0iE', 7, 'Yes', 'STUFFING ABELLAS BUTT', '13:50', 7.7,'', \"\"),\n",
        "(5, 'Abigail Mac, Kalina Ryu and Romi Rain', 'Swallowed', 'Mike Adriano', 8, 'https://bunkrr.su/v/Abigail-Mac,-Kalina-Ryu-and-Romi-Rain-NtuQCrSS.mp4', 10, 'Yes', 'ABIGAIL, KALINA AND ROMI HAVE A FROTHY DROOLING COCK BUFFET', '14:02,14:52,20:50,23:16,24:48,26:42,28:14,28:58', 8.5,'',\"\"),\n",
        "(6, 'Adira Allure and Bella Rolland', 'Swallowed', 'Oliver Flynn', 0, 'https://bunkrr.su/v/rY1N37GrIf11b', 6.5, 'Yes', 'BELLA AND ADIRA QUENCH THEIR THIRST', '', 6.2,'',\"\"),\n",
        "(7, 'Adira Allure and Leah Winters', 'AllAnal', 'Logan Long', 0, 'https://bunkrr.su/v/fINu6gRtY1n1x', 5.8, 'No', 'Cotton Candy Crush With Adira And Leah', '', 8.6,'',\"\"),\n",
        "(8, 'Adira Allure', 'AnalOnly', 'Logan Long', 0, 'https://bunkrr.su/v/Dv82NHNE75JIV', 5.0, 'No', 'Dicking Down Adira', '', 6.3,'',\"\"),\n",
        "(9, 'Aaliyah Hadid and Honey Gold', 'Swallowed', 'Mike Adriano', 0, 'https://bunkrr.su/v/gFI9GR2mVYDR9', 7.0, 'No', 'AALIYAH AND HONEY GO A LITTLE CRAZY ON A DICK', '', 6.6,'',\"\"),\n",
        "(10, 'Adria Rae', 'Swallowed', 'Mike Adriano', 7, 'https://bunkrr.su/v/sJX6QBusXm4Su', 8.3, 'No', 'FEEDING TIME FOR ADRIA', '13:45, 14:50, 20:10, 21:20, 22:07, 33:36, 37:50', 9.5,'',\"\"),\n",
        "(11, 'Adriana Chechik and Anya Olsen', 'Swallowed', 'Mike Adriano', 1, 'https://gofile.io/d/lB2iWf', 8.5, 'Yes', 'THERE IS SPITTLE CHEMISTRY BETWEEN ADRIANA AND ANYA', '22:55', 8.8,'',\"\"),\n",
        "(12, 'Lily Labeau, Haley Reed ', 'Swallowed', 'Mike Adriano', 4, 'https://bunkrr.su/v/ouJYidxG1Hmwq', 8.8 , 'No', 'HALEY AND LILY DOLE OUT DOUBLE HELPINGS OF SLOPPY', '12:50; 14:40, 16:30, 19:20', 9.0,'',\"\"),\n",
        "(13, 'Blair Williams', 'Swallowed', 'Mike Adriano', 4, 'https://bunkrr.su/v/9dljBPD6w5MFm', 9.4 , 'Yes', 'BLAIR MAKES IT DISAPPEAR', '10:50; 12:30, 21:08, 24:10', 8.5,'',\"\"),\n",
        "(14, 'Eliza Ibarra', 'Nympho', 'Logan Long', 0, 'https://bunkrr.su/v/9p1tWYkpHJE2A', 9.9 , 'Yes', 'Eliza Is A World Class Pleaser', '', 9.0,'',\"\"),\n",
        "(15, 'Gina Valentina and Jill Kassidy', 'Swallowed', 'Mike Adriano', 0, 'https://bunkrr.su/v/rgIIU57JcDjdr', 9.2 , 'Yes', 'JILL AND GINA IN A SLOPPY GARGLING SUCK PARTY', '33:00', 10.0,'',\"\"),\n",
        "(16, 'Sarah Vandella', 'Swallowed', 'Alex Jones', 0, 'https://bunkrr.su/v/U1ha0Dc7cQD2B', 8.0 , 'Yes', 'MASTER LEVEL BJ WITH SARAH', '', 8.4,'',\"\"),\n",
        "(17, 'Eliza Ibarra and Kiarra Kai', 'AllAnal', 'Mike Adriano', 0, 'https://bunkrr.su/v/yKBA3fA4dDXRN', 5.8 , 'No', 'ATM Introduction For Eliza And Kiarra', '', 6.0,'',\"\"),\n",
        "(18, 'Eliza Ibarra', 'Swallowed', 'Mike Adriano', 2, 'https://bunkrr.su/v/fltyRsFn1CRwF', 10.0 , 'Yes', 'ELIZA IS A JUICE MAKER', '32:05, 34:55', 9.0,'',\"\"),\n",
        "(19, 'Sarah Banks', 'Swallowed', 'Mike Adriano', 6, 'https://bunkrr.su/v/Ewny4Q8iJg0Ix', 10.0 , 'Yes', 'SARAH''S SLURP SESSION', '16:05, 17:20 ,21:00, 22:48, 27:20 ,31:20', 7.3,'',\"\"),\n",
        "(20, 'Kendra Spade', 'Swallowed', 'Mike Adriano', 1, 'https://bunkrr.su/v/xgr4iFgfGbUVk', 8.0, 'Yes', 'MOUTH WATERING ACTION WITH KENDRA', '21:50', 8.0, '', ''),\n",
        "(21, 'Brooklyn Gray', 'Swallowed', 'Mike Adriano', 2, 'https://bunkrr.su/v/Z77UshVaYd8Yc', 9.0, 'Yes', 'BACK IN BROOKLYNS THROAT', '19:50, 33:00', 7.4, '', ''),\n",
        "(22, 'Khloe Kapri', 'Swallowed', 'Mike Adriano', 4, 'https://bunkrr.su/v/OIcj8uWYLN04n', 9.5, 'Yes', 'KHLOE IS A BLOWJOB PRINCESS', '18:00, 18:30, 21:15, 32:25', 7.7, '', ''),\n",
        "(23, 'Khloe Kapri', 'Swallowed', 'Alex Jones', 0, 'https://bunkrr.su/v/am0m2wJNGkBNU', 7.8, 'Yes', 'MORE THAN A MOUTHFUL FOR KHLOE', '', 7.7, '', '')\n",
        "(24, 'Emma Starletto and Izzy Lush', 'Swallowed', 'Mike Adriano', 1, 'https://bunkrr.su/v/lZtB98v4lylGs', 7.3, 'No', 'IZZY AND EMMA LET THE DROOL FLOW', '18:50', 10.0, '', '')\n",
        "(25, 'Aria Lee', 'Swallowed', 'Alex Jones', 0, 'https://bunkrr.su/v/kLM2xtxF4swCV', 6.0, 'No', 'TONGUE TIED WITH EMMA AND ARIA', '', 10.0, '', '')\n",
        "\n",
        "]\n",
        "\n",
        "# Insertig my data\n",
        "for row in data:\n",
        "    try:\n",
        "        conn.execute(\"INSERT INTO videos VALUES (?, ?, ?, ?, ?, ?, ?, ?, ?, ?, ?, ?, ?)\", row)\n",
        "    except sqlite3.IntegrityError:\n",
        "        print(f\"Skipping row with duplicate id: {row[0]}\")\n",
        "        continue\n",
        "\n",
        "cursor.execute(\"SELECT * FROM videos\")\n",
        "rows = cursor.fetchall()\n",
        "\n",
        "# Show data\n",
        "for row in rows:\n",
        "    print(row)"
      ]
    },
    {
      "cell_type": "code",
      "source": [
        "# NOW YOU CAN JUST MAKE THE SEARCH YOU WANT\n",
        "# ITS JUST CHANGE YOUR PREFERENCES AND RUN\n",
        "\n",
        "\n",
        "# SEARCH FOR SOME GIRL\n",
        "sql_query = \"SELECT * FROM videos WHERE Actress_name LIKE '%Kendra Spade%'\"\n",
        "cursor.execute(sql_query)\n",
        "results = cursor.fetchall()\n",
        "for row in results:\n",
        "    print(row)\n"
      ],
      "metadata": {
        "id": "fNPS0RAouBwO"
      },
      "execution_count": null,
      "outputs": []
    },
    {
      "cell_type": "code",
      "source": [
        "# SEARCH FOR AN RATE AVERAGE ABOVE 8\n",
        "sql_query = \"SELECT * FROM videos WHERE CAST(VideoRate AS DECIMAL(10,2)) > 8\"\n",
        "cursor.execute(sql_query)\n",
        "results = cursor.fetchall()\n",
        "for row in results:\n",
        "    print(row)"
      ],
      "metadata": {
        "colab": {
          "base_uri": "https://localhost:8080/"
        },
        "id": "q8amz-jauEzz",
        "outputId": "96da7c91-ca27-419f-91a7-556426cf1465"
      },
      "execution_count": null,
      "outputs": [
        {
          "output_type": "stream",
          "name": "stdout",
          "text": [
            "(1, 'Aaliyah Hadid', 'Swallowed', 'Mike Adriano', 3, 'https://cdn11.bunkr.ru/Aaliyah-Hadid-BJdTDwKu.mp4', 8.5, 'Yes', 'AALIYAH’S SOUL-SUCKING BJ', '16:15,18:08,32:45', 6.5, 'https://drive.google.com/drive/u/3/folders/1Ya_x7V5-hc339epwpvth2h5JqkU81w1e', \"Aaliyah Hadid proves once again what she was BORN to do: sloppy blowjobs. This video is further proof of how skilled she is in this practice, although I miss a full deepthroat, she did a good job and her effort is quite remarkable. She shows that she really likes what she does, and that makes all the difference. If you're looking for a video of a girl who looks crazy about Mike's cock, who spills LITERS of saliva (in a cup) and who looks like she's crazy sucking a cock, then this is the perfect video for you. I don't particularly think she's pretty, despite having huge and beautiful breasts. However, she is very talented, she made Mike precum 3 times and I had a lot of fun in this video from start to finish. Deserving an 8.5 for the good work, above average, but lacking a little more skill with the throat. It's not on the first shelf of the best Swallowed videos, but it's a great video to have in your collection.\")\n",
            "(2, 'Abella Danger and Karlee Grey', 'Swallowed', 'Mike Adriano', 4, 'https://bunkrr.su/v/Abella-Danger-and-Karlee-Grey-cFe5gXQ8.mp4', 9.5, 'Yes', 'ABELLA AND KARLEE ARE THIRSTY LITTLE THROAT SLUTS', '15:38,24:52,28:18,33:55,34:25', 8.2, 'https://drive.google.com/drive/folders/15NsIRkpQMkGIWVXaK9AOgRHOE0OFZh3N?usp=sharing', \"Lebron and Kyrie? Kobe and Shaq? Sorry, but Abella Danger and Karlee Gray are one of the best duos to ever walk this earth. I don't know if they have a friendship in their personal lives, but it's amazing how well they work together! Abella is the crazy side: she suffocates on Mike's cock, looks like she's hungry for him, shows that she's passionate about what she does. Karlee is on the quiet side: she does her good work without having to freak out, but she does it impressively! Both are beautiful women, but Karlee steals the show. She has a perfect body and a smile that mesmerizes you every time. It wasn't enough for the two to be beautiful, they are also extremely skilled at what they do, the dream of many men. Maybe the 9.5 rating seems high, but having Mike pre-cum 4 times and leaving you hooked throughout the entire video makes them deserve that rating. If you want a video to enjoy, cum fast, cum many times or whatever you want to do, this video is a work of art for you. Kudos to Mike for seeing such a great duo and putting it into practice!\")\n",
            "(5, 'Abigail Mac, Kalina Ryu and Romi Rain', 'Swallowed', 'Mike Adriano', 8, 'https://bunkrr.su/v/Abigail-Mac,-Kalina-Ryu-and-Romi-Rain-NtuQCrSS.mp4', 10.0, 'Yes', 'ABIGAIL, KALINA AND ROMI HAVE A FROTHY DROOLING COCK BUFFET', '14:02,14:52,20:50,23:16,24:48,26:42,28:14,28:58', 8.5, '', '')\n",
            "(10, 'Adria Rae', 'Swallowed', 'Mike Adriano', 7, 'https://bunkrr.su/v/sJX6QBusXm4Su', 8.3, 'No', 'FEEDING TIME FOR ADRIA', '13:45, 14:50, 20:10, 21:20, 22:07, 33:36, 37:50', 9.5, '', '')\n",
            "(11, 'Adriana Chechik and Anya Olsen', 'Swallowed', 'Mike Adriano', 1, 'https://gofile.io/d/lB2iWf', 8.5, 'Yes', 'THERE IS SPITTLE CHEMISTRY BETWEEN ADRIANA AND ANYA', '22:55', 8.8, '', '')\n",
            "(12, 'Lily Labeau, Haley Reed ', 'Swallowed', 'Mike Adriano', 4, 'https://bunkrr.su/v/ouJYidxG1Hmwq', 8.8, 'No', 'HALEY AND LILY DOLE OUT DOUBLE HELPINGS OF SLOPPY', '12:50; 14:40, 16:30, 19:20', 9.0, '', '')\n",
            "(13, 'Blair Williams', 'Swallowed', 'Mike Adriano', 4, 'https://bunkrr.su/v/9dljBPD6w5MFm', 9.4, 'Yes', 'BLAIR MAKES IT DISAPPEAR', '10:50; 12:30, 21:08, 24:10', 8.5, '', '')\n",
            "(14, 'Eliza Ibarra', 'Nympho', 'Logan Long', 0, 'https://bunkrr.su/v/9p1tWYkpHJE2A', 9.9, 'Yes', 'Eliza Is A World Class Pleaser', '', 9.0, '', '')\n",
            "(15, 'Gina Valentina and Jill Kassidy', 'Swallowed', 'Mike Adriano', 0, 'https://bunkrr.su/v/rgIIU57JcDjdr', 9.2, 'Yes', 'JILL AND GINA IN A SLOPPY GARGLING SUCK PARTY', '33:00', 10.0, '', '')\n",
            "(18, 'Eliza Ibarra', 'Swallowed', 'Mike Adriano', 2, 'https://bunkrr.su/v/fltyRsFn1CRwF', 10.0, 'Yes', 'ELIZA IS A JUICE MAKER', '32:05, 34:55', 9.0, '', '')\n",
            "(19, 'Sarah Banks', 'Swallowed', 'Mike Adriano', 6, 'https://bunkrr.su/v/Ewny4Q8iJg0Ix', 10.0, 'Yes', 'SARAHS SLURP SESSION', '16:05, 17:20 ,21:00, 22:48, 27:20 ,31:20', 7.3, '', '')\n"
          ]
        }
      ]
    },
    {
      "cell_type": "code",
      "source": [
        "# SEARCH FOR VIDEOS IF MORE THEN 2 CUMS\n",
        "sql_query = \"SELECT * FROM videos WHERE CumsCount >= 2\"\n",
        "cursor.execute(sql_query)\n",
        "results = cursor.fetchall()\n",
        "for row in results:\n",
        "    print(row)"
      ],
      "metadata": {
        "colab": {
          "base_uri": "https://localhost:8080/"
        },
        "id": "F6yb9vIIuFY9",
        "outputId": "416fb585-64b0-4d83-a140-401e1ca5d1ab"
      },
      "execution_count": null,
      "outputs": [
        {
          "output_type": "stream",
          "name": "stdout",
          "text": [
            "(1, 'Aaliyah Hadid', 'Swallowed', 'Mike Adriano', 3, 'https://cdn11.bunkr.ru/Aaliyah-Hadid-BJdTDwKu.mp4', 8.5, 'Yes', 'AALIYAH’S SOUL-SUCKING BJ', '16:15,18:08,32:45', 6.5, 'https://drive.google.com/drive/u/3/folders/1Ya_x7V5-hc339epwpvth2h5JqkU81w1e', \"Aaliyah Hadid proves once again what she was BORN to do: sloppy blowjobs. This video is further proof of how skilled she is in this practice, although I miss a full deepthroat, she did a good job and her effort is quite remarkable. She shows that she really likes what she does, and that makes all the difference. If you're looking for a video of a girl who looks crazy about Mike's cock, who spills LITERS of saliva (in a cup) and who looks like she's crazy sucking a cock, then this is the perfect video for you. I don't particularly think she's pretty, despite having huge and beautiful breasts. However, she is very talented, she made Mike precum 3 times and I had a lot of fun in this video from start to finish. Deserving an 8.5 for the good work, above average, but lacking a little more skill with the throat. It's not on the first shelf of the best Swallowed videos, but it's a great video to have in your collection.\")\n",
            "(2, 'Abella Danger and Karlee Grey', 'Swallowed', 'Mike Adriano', 4, 'https://bunkrr.su/v/Abella-Danger-and-Karlee-Grey-cFe5gXQ8.mp4', 9.5, 'Yes', 'ABELLA AND KARLEE ARE THIRSTY LITTLE THROAT SLUTS', '15:38,24:52,28:18,33:55,34:25', 8.2, 'https://drive.google.com/drive/folders/15NsIRkpQMkGIWVXaK9AOgRHOE0OFZh3N?usp=sharing', \"Lebron and Kyrie? Kobe and Shaq? Sorry, but Abella Danger and Karlee Gray are one of the best duos to ever walk this earth. I don't know if they have a friendship in their personal lives, but it's amazing how well they work together! Abella is the crazy side: she suffocates on Mike's cock, looks like she's hungry for him, shows that she's passionate about what she does. Karlee is on the quiet side: she does her good work without having to freak out, but she does it impressively! Both are beautiful women, but Karlee steals the show. She has a perfect body and a smile that mesmerizes you every time. It wasn't enough for the two to be beautiful, they are also extremely skilled at what they do, the dream of many men. Maybe the 9.5 rating seems high, but having Mike pre-cum 4 times and leaving you hooked throughout the entire video makes them deserve that rating. If you want a video to enjoy, cum fast, cum many times or whatever you want to do, this video is a work of art for you. Kudos to Mike for seeing such a great duo and putting it into practice!\")\n",
            "(3, 'Abella Danger and Luna Star', 'Swallowed', 'Mike Adriano', 3, 'https://bunkrr.su/v/t6IEi4DWyyWcR', 7.4, 'Yes', 'DOUBLE-DIPPING WITH ABELLA AND LUNA', '12:45,27:48,29:29', 7.0, 'https://drive.google.com/drive/folders/1Jogg1LrU-1MgYyLlFXCtPLnW4QcSJkhi?usp=sharing', '')\n",
            "(5, 'Abigail Mac, Kalina Ryu and Romi Rain', 'Swallowed', 'Mike Adriano', 8, 'https://bunkrr.su/v/Abigail-Mac,-Kalina-Ryu-and-Romi-Rain-NtuQCrSS.mp4', 10.0, 'Yes', 'ABIGAIL, KALINA AND ROMI HAVE A FROTHY DROOLING COCK BUFFET', '14:02,14:52,20:50,23:16,24:48,26:42,28:14,28:58', 8.5, '', '')\n",
            "(10, 'Adria Rae', 'Swallowed', 'Mike Adriano', 7, 'https://bunkrr.su/v/sJX6QBusXm4Su', 8.3, 'No', 'FEEDING TIME FOR ADRIA', '13:45, 14:50, 20:10, 21:20, 22:07, 33:36, 37:50', 9.5, '', '')\n",
            "(12, 'Lily Labeau, Haley Reed ', 'Swallowed', 'Mike Adriano', 4, 'https://bunkrr.su/v/ouJYidxG1Hmwq', 8.8, 'No', 'HALEY AND LILY DOLE OUT DOUBLE HELPINGS OF SLOPPY', '12:50; 14:40, 16:30, 19:20', 9.0, '', '')\n",
            "(13, 'Blair Williams', 'Swallowed', 'Mike Adriano', 4, 'https://bunkrr.su/v/9dljBPD6w5MFm', 9.4, 'Yes', 'BLAIR MAKES IT DISAPPEAR', '10:50; 12:30, 21:08, 24:10', 8.5, '', '')\n",
            "(18, 'Eliza Ibarra', 'Swallowed', 'Mike Adriano', 2, 'https://bunkrr.su/v/fltyRsFn1CRwF', 10.0, 'Yes', 'ELIZA IS A JUICE MAKER', '32:05, 34:55', 9.0, '', '')\n",
            "(19, 'Sarah Banks', 'Swallowed', 'Mike Adriano', 6, 'https://bunkrr.su/v/Ewny4Q8iJg0Ix', 10.0, 'Yes', 'SARAHS SLURP SESSION', '16:05, 17:20 ,21:00, 22:48, 27:20 ,31:20', 7.3, '', '')\n"
          ]
        }
      ]
    }
  ]
}